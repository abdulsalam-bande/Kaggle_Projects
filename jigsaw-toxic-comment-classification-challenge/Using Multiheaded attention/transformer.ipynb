{
 "cells": [
  {
   "cell_type": "markdown",
   "metadata": {},
   "source": [
    "## Multiheaded attention mechanism\n",
    "\n",
    "- The below just explaines how to get the most attentive words for an output label"
   ]
  },
  {
   "cell_type": "code",
   "execution_count": 151,
   "metadata": {},
   "outputs": [],
   "source": [
    "import torch\n",
    "import torch.nn as nn"
   ]
  },
  {
   "cell_type": "code",
   "execution_count": 152,
   "metadata": {},
   "outputs": [],
   "source": [
    "class SelfAttention(nn.Module):\n",
    "    def __init__(self, embed_size, heads):\n",
    "        super(SelfAttention, self).__init__()\n",
    "        self.embed_size = embed_size\n",
    "        self.heads = heads\n",
    "        self.head_dim = embed_size // heads\n",
    "\n",
    "        self.values = nn.Linear(self.head_dim, self.head_dim, bias=False)\n",
    "        self.keys = nn.Linear(self.head_dim, self.head_dim, bias=False)\n",
    "        self.queries = nn.Linear(self.head_dim, self.head_dim, bias=False)\n",
    "        self.fc_out = nn.Linear(heads * self.head_dim, embed_size)\n",
    "\n",
    "    def forward(self, values, keys, query):\n",
    "        N = query.shape[0]\n",
    "\n",
    "        value_len, key_len, query_len = values.shape[1], keys.shape[1], query.shape[1]\n",
    "\n",
    "        values = values.reshape(N, value_len, self.heads, self.head_dim)\n",
    "        keys = keys.reshape(N, key_len, self.heads, self.head_dim)\n",
    "        query = query.reshape(N, query_len, self.heads, self.head_dim)\n",
    "\n",
    "        values = self.values(values)  \n",
    "        keys = self.keys(keys) \n",
    "        queries = self.queries(query)  \n",
    "        \n",
    "        #scaled dot product attention\n",
    "        energy = torch.einsum(\"nqhd,nkhd->nhqk\", [queries, keys])\n",
    "       \n",
    "        \n",
    "        attention = torch.softmax(energy / (self.embed_size ** (1 / 2)), dim=3)\n",
    "\n",
    "        out1 = torch.einsum(\"nhql,nlhd->nqhd\", [attention, values]).reshape(\n",
    "            N, query_len, self.heads * self.head_dim\n",
    "        )\n",
    "        out2 = self.fc_out(out1)\n",
    "\n",
    "\n",
    "        return out1,out2\n",
    "    \n",
    "class TransformerBlock(nn.Module):\n",
    "    def __init__(self, embed_size, heads, dropout, forward_expansion):\n",
    "        super(TransformerBlock, self).__init__()\n",
    "        self.attention = SelfAttention(embed_size, heads)\n",
    "        self.norm1 = nn.LayerNorm(embed_size)\n",
    "        self.norm2 = nn.LayerNorm(embed_size)\n",
    "\n",
    "        self.feed_forward = nn.Sequential(\n",
    "            nn.Linear(embed_size, forward_expansion * embed_size),\n",
    "            nn.ReLU(),\n",
    "            nn.Linear(forward_expansion * embed_size, embed_size),\n",
    "        )\n",
    "\n",
    "        self.dropout = nn.Dropout(dropout)\n",
    "\n",
    "    def forward(self, value, key, query):\n",
    "        attention1,attention = self.attention(value, key, query)\n",
    "        # Add skip connection, run through normalization and finally dropout\n",
    "        x = self.dropout(self.norm1(attention + query))\n",
    "        forward = self.feed_forward(x)\n",
    "        out = self.dropout(self.norm2(forward + x))\n",
    "        return attention1,out\n",
    "    \n",
    "    \n",
    "class Encoder(nn.Module):\n",
    "    def __init__(\n",
    "        self,\n",
    "        src_vocab_size,\n",
    "        embed_size,\n",
    "        num_layers,\n",
    "        heads,\n",
    "        forward_expansion,\n",
    "        dropout,\n",
    "        max_length,\n",
    "        seq_length,\n",
    "    ):\n",
    "\n",
    "        super(Encoder, self).__init__()\n",
    "        self.embed_size = embed_size\n",
    "        self.word_embedding = nn.Embedding(src_vocab_size, embed_size)\n",
    "        self.position_embedding = nn.Embedding(max_length, embed_size)\n",
    "\n",
    "        self.layers = TransformerBlock(embed_size,heads,dropout=dropout,\n",
    "                                                      forward_expansion=forward_expansion)\n",
    "            \n",
    "\n",
    "        self.dropout = nn.Dropout(dropout)\n",
    "        self.l1  = nn.Linear(in_features=seq_length*embed_size,out_features=6)\n",
    "        \n",
    "\n",
    "    def forward(self, x):\n",
    "        N, seq_length = x.shape\n",
    "        positions = torch.arange(0, seq_length).expand(N, seq_length)\n",
    "        out = self.dropout(\n",
    "            (self.word_embedding(x) + self.position_embedding(positions))\n",
    "        )\n",
    "\n",
    "        attention1,out = self.layers(out, out, out)\n",
    "        out = out.reshape((N,-1))\n",
    "        \n",
    "        final1 =self.l1(out)\n",
    "        final1 = torch.softmax(final1,dim=1)\n",
    "        \n",
    "        return attention1,final1\n",
    "    \n",
    "    \n"
   ]
  },
  {
   "cell_type": "code",
   "execution_count": 153,
   "metadata": {
    "scrolled": false
   },
   "outputs": [],
   "source": [
    "#we have 1 trainign example\n",
    "x = torch.tensor([[1, 5, 6, 4, 3, 9, 5, 2, 0]])\n",
    "\n",
    "model = Encoder( \n",
    "        src_vocab_size=10,\n",
    "        embed_size=4,\n",
    "        num_layers=1,\n",
    "        heads=2,\n",
    "        forward_expansion=1,\n",
    "        dropout=0,\n",
    "        max_length=100,\n",
    "        seq_length=9)\n",
    "\n",
    "\n",
    "\n",
    "attention1,final1= model(x)\n",
    "\n"
   ]
  },
  {
   "cell_type": "code",
   "execution_count": 154,
   "metadata": {
    "scrolled": true
   },
   "outputs": [
    {
     "name": "stdout",
     "output_type": "stream",
     "text": [
      "result shape\n",
      "torch.Size([1, 6])\n",
      "Scaled dot product attention shape\n",
      "torch.Size([9, 4])\n"
     ]
    }
   ],
   "source": [
    "print(\"result shape\")\n",
    "print(final1.shape)\n",
    "attention1 = attention1.squeeze()\n",
    "print(\"Scaled dot product attention shape\")\n",
    "print(attention1.shape)"
   ]
  },
  {
   "cell_type": "markdown",
   "metadata": {},
   "source": [
    "# Below is just an experiment on using the attention to get the most important words for each label\n",
    "- Here, each class probability is multiplied by the attention"
   ]
  },
  {
   "cell_type": "code",
   "execution_count": 155,
   "metadata": {},
   "outputs": [
    {
     "data": {
      "text/plain": [
       "tensor([[-5.4913e-04,  1.0866e-01,  3.8197e-02, -4.8900e-01],\n",
       "        [ 1.6612e-02, -2.2768e-01,  3.7639e-02, -5.3477e-01],\n",
       "        [ 2.5642e-03, -7.2879e-01,  3.7813e-02, -5.4182e-01],\n",
       "        [ 1.8606e-02, -3.3708e-01,  3.7900e-02, -4.9620e-01],\n",
       "        [ 6.1051e-03,  2.1642e-03,  3.8481e-02, -5.4020e-01],\n",
       "        [ 2.1993e-03,  7.4170e-02,  3.8115e-02, -4.9558e-01],\n",
       "        [-4.7350e-03,  1.7263e-01,  3.7927e-02, -4.8462e-01],\n",
       "        [ 1.6801e-02, -2.3931e-01,  3.8206e-02, -4.9756e-01],\n",
       "        [ 1.7887e-02, -3.8195e-01,  3.9050e-02, -4.4195e-01]],\n",
       "       grad_fn=<SqueezeBackward0>)"
      ]
     },
     "execution_count": 155,
     "metadata": {},
     "output_type": "execute_result"
    }
   ],
   "source": [
    "attention1 # Seq length  by embedding (9 by 4)"
   ]
  },
  {
   "cell_type": "code",
   "execution_count": 156,
   "metadata": {},
   "outputs": [
    {
     "name": "stdout",
     "output_type": "stream",
     "text": [
      "classes probabiliteis list\n",
      "[0.0628705620765686, 0.13802635669708252, 0.10018505156040192, 0.15317615866661072, 0.15744292736053467, 0.38829895853996277]\n"
     ]
    }
   ],
   "source": [
    "classes_list = final1.tolist()[0]\n",
    "print(\"classes probabiliteis list\")\n",
    "print(classes_list)"
   ]
  },
  {
   "cell_type": "code",
   "execution_count": 157,
   "metadata": {},
   "outputs": [
    {
     "name": "stdout",
     "output_type": "stream",
     "text": [
      "class  0\n",
      "Important sequence Index  [6, 0]\n",
      "class  1\n",
      "Important sequence Index  [6, 0]\n",
      "class  2\n",
      "Important sequence Index  [6, 0]\n",
      "class  3\n",
      "Important sequence Index  [6, 0]\n",
      "class  4\n",
      "Important sequence Index  [6, 0]\n",
      "class  5\n",
      "Important sequence Index  [6, 0]\n"
     ]
    }
   ],
   "source": [
    "for i,j in enumerate(classes_list):\n",
    "    #if(j>0.5): # commented because its not a real example\n",
    "    \n",
    "    # multiply probability of each class with the attention\n",
    "    class_attention_dot_product = attention1*j\n",
    "    # get the top 2 largest words\n",
    "    classes, scores = torch.topk((class_attention_dot_product.sum(dim=1)),k=2)\n",
    "    print(\"class \",i)\n",
    "    print(\"Important sequence Index \",scores.tolist())\n",
    "    "
   ]
  },
  {
   "cell_type": "code",
   "execution_count": null,
   "metadata": {},
   "outputs": [],
   "source": []
  }
 ],
 "metadata": {
  "kernelspec": {
   "display_name": "Python 3",
   "language": "python",
   "name": "python3"
  },
  "language_info": {
   "codemirror_mode": {
    "name": "ipython",
    "version": 3
   },
   "file_extension": ".py",
   "mimetype": "text/x-python",
   "name": "python",
   "nbconvert_exporter": "python",
   "pygments_lexer": "ipython3",
   "version": "3.7.7"
  }
 },
 "nbformat": 4,
 "nbformat_minor": 4
}
