{
 "cells": [
  {
   "cell_type": "code",
   "execution_count": 6,
   "metadata": {},
   "outputs": [],
   "source": [
    "import pandas as pd \n",
    "import torch\n",
    "from torch import nn\n",
    "from torch import utils\n",
    "import torch.nn.functional as F\n",
    "import torch.optim as optim\n",
    "from torch.utils.data import Dataset, DataLoader\n",
    "import numpy as np\n",
    "import json\n",
    "from torch.autograd import Variable\n",
    "import matplotlib.pyplot as plt\n",
    "import csv\n",
    "from random import shuffle\n",
    "\n"
   ]
  },
  {
   "cell_type": "markdown",
   "metadata": {},
   "source": [
    "### Prepare the Data"
   ]
  },
  {
   "cell_type": "code",
   "execution_count": 7,
   "metadata": {},
   "outputs": [],
   "source": [
    "\n",
    "#Simple json load\n",
    "with open(\"data/train.json\") as f:\n",
    "    train = json.load(f)\n",
    "        \n",
    "with open(\"data/test.json\") as f:\n",
    "    test = json.load(f)\n",
    "    "
   ]
  },
  {
   "cell_type": "code",
   "execution_count": 8,
   "metadata": {},
   "outputs": [],
   "source": [
    "\n",
    "xx=[d['ingredients'] for d in train]\n",
    "yy=[d['cuisine'] for d in train]\n",
    "word_list=set()\n",
    "for x in xx:\n",
    "    word_list|=set(tuple(x))\n",
    "word_list=list(word_list)\n",
    "#Make the list of cuisines \n",
    "\n",
    "cat_list=list(set(yy))"
   ]
  },
  {
   "cell_type": "code",
   "execution_count": 9,
   "metadata": {},
   "outputs": [],
   "source": [
    "word_list=set()\n",
    "for x in xx:\n",
    "    word_list|=set(tuple(x))\n",
    "word_list=list(word_list)\n",
    "#Make the list of cuisines \n",
    "cat_list=list(set(yy))"
   ]
  },
  {
   "cell_type": "code",
   "execution_count": 10,
   "metadata": {},
   "outputs": [],
   "source": [
    "newx=[]\n",
    "for num,rec in enumerate(xx):\n",
    "    newx.append(np.zeros(len(word_list)))\n",
    "    for ing in rec:\n",
    "        if ing in word_list:\n",
    "            ing_location=word_list.index(ing)\n",
    "            #newx[num][ing_location]=1/(ing_recep_count[ing_location])\n",
    "            newx[num][ing_location]=1\n",
    "newx=np.array(newx)\n",
    "\n",
    "\n",
    "#Convert the cuisines to numerical representation\n",
    "newy2=[]\n",
    "for num,rec in enumerate(yy):\n",
    "    newy2.append(cat_list.index(rec))\n",
    "newy2=np.array(newy2)"
   ]
  },
  {
   "cell_type": "code",
   "execution_count": 11,
   "metadata": {},
   "outputs": [],
   "source": [
    "SPLIT = 1\n",
    "#Splitting into training and validation sets with SPLIT amount\n",
    "tv=int(np.ceil(len(newx)*SPLIT))\n",
    "xtrain=newx[0:tv]\n",
    "ytrain=newy2[0:tv]\n",
    "xval=newx[tv:]\n",
    "yval=newy2[tv:]\n"
   ]
  },
  {
   "cell_type": "code",
   "execution_count": 16,
   "metadata": {
    "scrolled": true
   },
   "outputs": [
    {
     "name": "stdout",
     "output_type": "stream",
     "text": [
      "(39774, 6714)\n",
      "float64\n"
     ]
    }
   ],
   "source": [
    "print(xtrain.shape)\n",
    "print((xval.dtype))"
   ]
  },
  {
   "cell_type": "code",
   "execution_count": 19,
   "metadata": {},
   "outputs": [],
   "source": [
    "class  Training_DataSet(Dataset):\n",
    "    def __init__(self,X,Y,transform):\n",
    "        self.data_features = X\n",
    "        self.data_target = Y\n",
    "        self.transform = transform\n",
    "        \n",
    "    def __len__(self):\n",
    "        return(len(self.data_target))\n",
    "    \n",
    "    def __getitem__(self,idx):\n",
    "        features = self.data_features[idx]  \n",
    "        target = self.data_target[idx]\n",
    "        sample = {\"features\":features,\"target\":target}\n",
    "        \n",
    "        if self.transform:\n",
    "            sample = self.transform(sample)\n",
    "            \n",
    "        return sample\n",
    "    \n",
    "\n",
    "class to_tensor_training(object):\n",
    "    def __call__(self,sample):\n",
    "        features , target = sample['features'],sample['target']\n",
    "        features = features.astype('float32')\n",
    "        features = torch.from_numpy(features)\n",
    "        featues = torch.unsqueeze(features,1)\n",
    "        features = features.float()\n",
    "        target = np.array([target])\n",
    "        target = torch.from_numpy(target)\n",
    "        target = target.long()\n",
    "        \n",
    "        return {\"features\":features,\"target\":target}\n",
    "        "
   ]
  },
  {
   "cell_type": "code",
   "execution_count": null,
   "metadata": {},
   "outputs": [],
   "source": [
    "transformed_dataset = Training_DataSet(xtrain,\n",
    "                                       ytrain,\n",
    "                                       transform = to_tensor_training())\n",
    "\n",
    "\n",
    "trainloader = torch.utils.data.DataLoader(transformed_dataset,batch_size=2, shuffle=True,num_workers=2)\n"
   ]
  },
  {
   "cell_type": "code",
   "execution_count": null,
   "metadata": {},
   "outputs": [],
   "source": [
    "#Print Some Data\n",
    "for i in range(len(transformed_dataset)):\n",
    "    sample = transformed_dataset[i]\n",
    "\n",
    "    print(i, sample['features'].size(),sample['target'].size())\n",
    "    print(i, sample['features'],sample['target'])\n",
    "\n",
    "    if i == 3:\n",
    "        break"
   ]
  },
  {
   "cell_type": "code",
   "execution_count": 28,
   "metadata": {},
   "outputs": [],
   "source": [
    "class Net(nn.Module):\n",
    "    def __init__(self):\n",
    "        super(Net,self).__init__()\n",
    "        self.fc1 = nn.Linear(6714,128)\n",
    "        self.fc2 = nn.Linear(128,20)\n",
    "        \n",
    "    def forward(self,x):\n",
    "        #drouput_activation1 = nn.Dropout(p=0.3)\n",
    "        x = F.relu(self.fc1(x))\n",
    "        x = self.fc2(x)\n",
    "        return x\n",
    "        "
   ]
  },
  {
   "cell_type": "code",
   "execution_count": 29,
   "metadata": {},
   "outputs": [],
   "source": [
    "net = Net()\n",
    "\n",
    "criterion = nn.CrossEntropyLoss()\n",
    "optimizer = optim.SGD(net.parameters(), lr=0.001, momentum=0.9)"
   ]
  },
  {
   "cell_type": "code",
   "execution_count": null,
   "metadata": {},
   "outputs": [
    {
     "name": "stdout",
     "output_type": "stream",
     "text": [
      "Epoch: 1/ 10..  Training Loss: 1.497.. \n",
      "Accuracy  57 %\n"
     ]
    }
   ],
   "source": [
    "loss_array = []\n",
    "correct = 0\n",
    "total = 0\n",
    "\n",
    "accuracy_array = []\n",
    "for epoch in range(12):\n",
    "    running_loss = 0\n",
    "    for i , data in enumerate(trainloader,0):\n",
    "        features , target = data['features'],data['target']\n",
    "        target = target.squeeze()\n",
    "        optimizer.zero_grad()\n",
    "        outputs = net(features)\n",
    "        _, predictions = torch.max(outputs,1)\n",
    "        total += target.size(0)\n",
    "        correct += (predictions == target).sum().item()\n",
    "        loss = criterion(outputs,target)\n",
    "        loss.backward()\n",
    "        optimizer.step()\n",
    "        running_loss += loss.item()\n",
    "        \n",
    "        \n",
    "    loss_array.append(running_loss / len(trainloader))\n",
    "    \n",
    "    print(\"Epoch: {}/ 10.. \".format(epoch+1),\n",
    "              \"Training Loss: {:.3f}.. \".format(running_loss/len(trainloader)))\n",
    "    print(\"Accuracy  %d %%\" %(100*correct/total))\n",
    "    correct = 0\n",
    "    total = 0\n",
    "print(\"Finished training\")"
   ]
  },
  {
   "cell_type": "markdown",
   "metadata": {},
   "source": [
    "### Ploting the Loss"
   ]
  },
  {
   "cell_type": "code",
   "execution_count": 73,
   "metadata": {},
   "outputs": [
    {
     "data": {
      "text/plain": [
       "<matplotlib.legend.Legend at 0x1296f5110>"
      ]
     },
     "execution_count": 73,
     "metadata": {},
     "output_type": "execute_result"
    },
    {
     "data": {
      "image/png": "[encoded data removed]",
      "text/plain": [
       "<Figure size 432x288 with 1 Axes>"
      ]
     },
     "metadata": {
      "image/png": {
       "height": 248,
       "width": 372
      },
      "needs_background": "light"
     },
     "output_type": "display_data"
    }
   ],
   "source": [
    "# Let us plot our loss over time\n",
    "%matplotlib inline\n",
    "%config InlineBackend.figure_format = \"retina\"\n",
    "\n",
    "\n",
    "import matplotlib.pyplot as plt\n",
    "\n",
    "plt.plot(loss_array,label=\"Training_loss\")\n",
    "plt.legend(frameon=False)"
   ]
  },
  {
   "cell_type": "code",
   "execution_count": 74,
   "metadata": {},
   "outputs": [
    {
     "name": "stdout",
     "output_type": "stream",
     "text": [
      "odict_keys(['fc1.weight', 'fc1.bias', 'fc2.weight', 'fc2.bias'])\n"
     ]
    }
   ],
   "source": [
    "#Lets save the model\n",
    "# Lets save the model for future experiments\n",
    "# The model has a statedict, lets print the keys\n",
    "print(net.state_dict().keys())\n",
    "\n",
    "#Let us save the state dict\n",
    "torch.save({\n",
    "    'model_state_dict' : net.state_dict()\n",
    "}, \"whatsCooking.pth\")\n",
    "\n"
   ]
  },
  {
   "cell_type": "code",
   "execution_count": 75,
   "metadata": {},
   "outputs": [],
   "source": [
    "#Lets load the test data\n",
    "#Load test set\n",
    "xx=[d['ingredients'] for d in test]\n",
    "\n",
    "#One hot that boi\n",
    "testx=[]\n",
    "for num,rec in enumerate(xx):\n",
    "    testx.append(np.zeros(len(word_list)))\n",
    "    for ing in rec:\n",
    "        if ing in word_list:\n",
    "            testx[num][word_list.index(ing)]=1\n",
    "testx=np.array(testx)\n",
    "\n",
    "#Make tensor and predict\n",
    "testx=torch.from_numpy(testx.astype(float)).float()\n",
    "testx=Variable(testx)"
   ]
  },
  {
   "cell_type": "code",
   "execution_count": 76,
   "metadata": {},
   "outputs": [],
   "source": [
    "predi = net(testx).data.cpu().numpy()\n"
   ]
  },
  {
   "cell_type": "code",
   "execution_count": 77,
   "metadata": {},
   "outputs": [
    {
     "name": "stdout",
     "output_type": "stream",
     "text": [
      "(9944, 20)\n",
      "[[-1.2753698   1.9386411   2.15623    ... -0.6578676  -0.6506899\n",
      "   0.3563679 ]\n",
      " [ 2.1278014  11.061064   -1.1343045  ... -2.7869089  -0.39109892\n",
      "   0.26132005]\n",
      " [-0.80843115 -0.08665398  7.0097547  ... -2.195427    0.5466123\n",
      "   2.253977  ]\n",
      " ...\n",
      " [-1.800317    4.1970797   9.171718   ... -2.2213762  -1.6763499\n",
      "   2.1264622 ]\n",
      " [ 2.5658596  11.235531   -2.0854495  ... -2.5229864   5.1513276\n",
      "   4.1383243 ]\n",
      " [ 4.237189    2.2045403  -4.0964203  ... -3.4988565  25.218164\n",
      "   7.9336843 ]]\n"
     ]
    }
   ],
   "source": [
    "print(predi.shape)\n",
    "print(predi)"
   ]
  },
  {
   "cell_type": "code",
   "execution_count": null,
   "metadata": {},
   "outputs": [],
   "source": [
    "\n"
   ]
  },
  {
   "cell_type": "code",
   "execution_count": 37,
   "metadata": {},
   "outputs": [
    {
     "name": "stdout",
     "output_type": "stream",
     "text": [
      "torch.Size([9944])\n"
     ]
    }
   ],
   "source": [
    "print(predictions.shape)"
   ]
  },
  {
   "cell_type": "code",
   "execution_count": 38,
   "metadata": {},
   "outputs": [
    {
     "name": "stdout",
     "output_type": "stream",
     "text": [
      "tensor([ 6,  1,  2,  ...,  2,  1, 18])\n"
     ]
    }
   ],
   "source": [
    "print(predictions)"
   ]
  },
  {
   "cell_type": "code",
   "execution_count": 79,
   "metadata": {},
   "outputs": [
    {
     "name": "stdout",
     "output_type": "stream",
     "text": [
      "predicted!\n",
      "35387,mexican\n"
     ]
    }
   ],
   "source": [
    "answers=[]\n",
    "for num,val in enumerate(test):\n",
    "    answers.append(str(val['id'])+','+cat_list[int(np.argmax(predi[num]))])\n",
    "\n",
    "answers.insert(0,'id,cuisine')\n",
    "print ('predicted!')\n",
    "print (answers[17])"
   ]
  },
  {
   "cell_type": "code",
   "execution_count": 80,
   "metadata": {},
   "outputs": [],
   "source": [
    "np.savetxt(\"one_layer_1000_epoch.csv\", answers, delimiter=\",\", fmt='%s')"
   ]
  },
  {
   "cell_type": "markdown",
   "metadata": {},
   "source": [
    "## "
   ]
  }
 ],
 "metadata": {
  "kernelspec": {
   "display_name": "Python 3",
   "language": "python",
   "name": "python3"
  },
  "language_info": {
   "codemirror_mode": {
    "name": "ipython",
    "version": 3
   },
   "file_extension": ".py",
   "mimetype": "text/x-python",
   "name": "python",
   "nbconvert_exporter": "python",
   "pygments_lexer": "ipython3",
   "version": "3.7.7"
  }
 },
 "nbformat": 4,
 "nbformat_minor": 2
}
