{
 "cells": [
  {
   "cell_type": "code",
   "execution_count": 1,
   "metadata": {},
   "outputs": [
    {
     "name": "stdout",
     "output_type": "stream",
     "text": [
      "pygame 1.9.6\n",
      "Hello from the pygame community. https://www.pygame.org/contribute.html\n"
     ]
    }
   ],
   "source": [
    "import torch\n",
    "import torch.nn as nn\n",
    "import torch.optim as optim\n",
    "import pandas as pd\n",
    "import numpy as np\n",
    "import matplotlib.pyplot as plt\n",
    "import torch.nn.functional as F\n",
    "from torch.utils.data import Dataset, DataLoader\n",
    "import pygame\n",
    "pygame.init()\n",
    "s = pygame.mixer.Sound(\"sound.wav\")\n"
   ]
  },
  {
   "cell_type": "code",
   "execution_count": 2,
   "metadata": {},
   "outputs": [],
   "source": [
    "my_classs = ('class1','class2','class3','class4','class5','class6','class7','class8','class9')"
   ]
  },
  {
   "cell_type": "code",
   "execution_count": 3,
   "metadata": {},
   "outputs": [],
   "source": [
    "class  Training_DataSet(Dataset):\n",
    "    def __init__(self,csv_file,root_dir,transform):\n",
    "        self.data = pd.read_csv(csv_file)\n",
    "        self.root_dir = root_dir\n",
    "        self.transform = transform\n",
    "        \n",
    "    def __len__(self):\n",
    "        return len(self.data)\n",
    "    \n",
    "    def __getitem__(self,idx):\n",
    "        features = self.data.iloc[idx]  \n",
    "        target = features['target'] #yoyoy\n",
    "        features = features.drop(labels='id',axis=0)\n",
    "        features = features.drop(labels='target',axis=0)\n",
    "        \n",
    "        sample = {\"features\":features,\"target\":target}\n",
    "        \n",
    "        if self.transform:\n",
    "            sample = self.transform(sample)\n",
    "            \n",
    "        return sample"
   ]
  },
  {
   "cell_type": "code",
   "execution_count": 4,
   "metadata": {},
   "outputs": [],
   "source": [
    "def isdigit(target):\n",
    "    digit = 0\n",
    "    for i in(target):\n",
    "        if i.isdigit():\n",
    "            digit = i\n",
    "    return digit"
   ]
  },
  {
   "cell_type": "code",
   "execution_count": 5,
   "metadata": {},
   "outputs": [],
   "source": [
    "\n",
    "\n",
    "class to_tensor_training(object):\n",
    "    def __call__(self,sample):\n",
    "        features , target = sample['features'],sample['target']\n",
    "        features = np.array([features])\n",
    "        features = features.astype('float32')\n",
    "        features = torch.from_numpy(features)\n",
    "        features = features.float()\n",
    "        target = isdigit(target)\n",
    "        target = int(target)-1\n",
    "\n",
    "        target = np.array([target])\n",
    "        target = torch.from_numpy(target)\n",
    "        target = target.long()\n",
    "        \n",
    "        return {\"features\":features,\"target\":target}\n",
    "        "
   ]
  },
  {
   "cell_type": "code",
   "execution_count": null,
   "metadata": {},
   "outputs": [],
   "source": []
  },
  {
   "cell_type": "code",
   "execution_count": 6,
   "metadata": {},
   "outputs": [],
   "source": [
    "transformed_dataset = Training_DataSet(csv_file=\"train.csv\",\n",
    "                                       root_dir=\"/Users/abdulsalamyazid/Desktop/Projects/Kaggle\",\n",
    "                                       transform = to_tensor_training())"
   ]
  },
  {
   "cell_type": "code",
   "execution_count": null,
   "metadata": {},
   "outputs": [],
   "source": []
  },
  {
   "cell_type": "code",
   "execution_count": 7,
   "metadata": {},
   "outputs": [
    {
     "name": "stdout",
     "output_type": "stream",
     "text": [
      "0 torch.float32 tensor([0])\n",
      "1 torch.float32 tensor([0])\n",
      "2 torch.float32 tensor([0])\n",
      "3 torch.float32 tensor([0])\n"
     ]
    }
   ],
   "source": [
    "for i in range(len(transformed_dataset)):\n",
    "    sample = transformed_dataset[i]\n",
    "\n",
    "    print(i, sample['features'].dtype,sample['target'])\n",
    "\n",
    "    if i == 3:\n",
    "        break"
   ]
  },
  {
   "cell_type": "code",
   "execution_count": null,
   "metadata": {},
   "outputs": [],
   "source": []
  },
  {
   "cell_type": "code",
   "execution_count": null,
   "metadata": {},
   "outputs": [],
   "source": []
  },
  {
   "cell_type": "code",
   "execution_count": 8,
   "metadata": {},
   "outputs": [],
   "source": [
    "class Net(nn.Module):\n",
    "    def __init__(self):\n",
    "        super(Net,self).__init__()\n",
    "        self.fc1 = nn.Linear(93,128)\n",
    "        self.fc2 = nn.Linear(128,256)\n",
    "        self.fc3 = nn.Linear(256,512)\n",
    "        self.fc4 = nn.Linear(512,64)\n",
    "        self.fc5 = nn.Linear(64,9)\n",
    "        \n",
    "    def forward(self,x):\n",
    "        #drouput_activation1 = nn.Dropout(p=0.3)\n",
    "        x = F.relu(self.fc1(x))\n",
    "        x = F.relu(self.fc2(x))\n",
    "        x = F.relu(self.fc3(x))\n",
    "        x = F.relu(self.fc4(x))\n",
    "        x = self.fc5(x)\n",
    "        return x\n",
    "        "
   ]
  },
  {
   "cell_type": "code",
   "execution_count": 9,
   "metadata": {},
   "outputs": [],
   "source": [
    "net = Net()"
   ]
  },
  {
   "cell_type": "code",
   "execution_count": 10,
   "metadata": {},
   "outputs": [],
   "source": [
    "trainloader = torch.utils.data.DataLoader(transformed_dataset,batch_size=4, shuffle=True,num_workers=2)\n"
   ]
  },
  {
   "cell_type": "code",
   "execution_count": 11,
   "metadata": {},
   "outputs": [],
   "source": [
    "\n",
    "criterion = nn.CrossEntropyLoss()\n",
    "optimizer = optim.SGD(net.parameters(), lr=0.001, momentum=0.9)"
   ]
  },
  {
   "cell_type": "code",
   "execution_count": 12,
   "metadata": {},
   "outputs": [
    {
     "name": "stdout",
     "output_type": "stream",
     "text": [
      "Epoch: 1/ 10..  Training Loss: 0.735.. \n",
      "Accuracy  72 %\n",
      "Epoch: 2/ 10..  Training Loss: 0.582.. \n",
      "Accuracy  77 %\n",
      "Epoch: 3/ 10..  Training Loss: 0.544.. \n",
      "Accuracy  78 %\n",
      "Epoch: 4/ 10..  Training Loss: 0.518.. \n",
      "Accuracy  79 %\n",
      "Epoch: 5/ 10..  Training Loss: 0.499.. \n",
      "Accuracy  80 %\n",
      "Epoch: 6/ 10..  Training Loss: 0.486.. \n",
      "Accuracy  80 %\n",
      "Epoch: 7/ 10..  Training Loss: 0.468.. \n",
      "Accuracy  80 %\n",
      "Epoch: 8/ 10..  Training Loss: 0.456.. \n",
      "Accuracy  81 %\n",
      "Epoch: 9/ 10..  Training Loss: 0.442.. \n",
      "Accuracy  81 %\n",
      "Epoch: 10/ 10..  Training Loss: 0.431.. \n",
      "Accuracy  82 %\n",
      "Epoch: 11/ 10..  Training Loss: 0.418.. \n",
      "Accuracy  82 %\n",
      "Finished training\n"
     ]
    }
   ],
   "source": [
    "loss_array = []\n",
    "correct = 0\n",
    "total = 0\n",
    "\n",
    "accuracy_array = []\n",
    "for epoch in range(11):\n",
    "    running_loss = 0\n",
    "    s.play()\n",
    "    for i , data in enumerate(trainloader,0):\n",
    "        features , target = data['features'],data['target']\n",
    "        target = target.squeeze()\n",
    "        optimizer.zero_grad()\n",
    "        outputs = net(features)\n",
    "        outputs = outputs.squeeze()\n",
    "        _, predictions = torch.max(outputs,1)\n",
    "        total += target.size(0)\n",
    "        correct += (predictions == target).sum().item()\n",
    "        loss = criterion(outputs,target)\n",
    "        loss.backward()\n",
    "        optimizer.step()\n",
    "        running_loss += loss.item()\n",
    "        \n",
    "        \n",
    "    loss_array.append(running_loss / len(trainloader))\n",
    "    \n",
    "    print(\"Epoch: {}/ 10.. \".format(epoch+1),\n",
    "              \"Training Loss: {:.3f}.. \".format(running_loss/len(trainloader)))\n",
    "    print(\"Accuracy  %d %%\" %(100*correct/total))\n",
    "    correct = 0\n",
    "    total = 0\n",
    "print(\"Finished training\")"
   ]
  },
  {
   "cell_type": "code",
   "execution_count": 13,
   "metadata": {},
   "outputs": [
    {
     "data": {
      "text/plain": [
       "<matplotlib.legend.Legend at 0x122d0bd30>"
      ]
     },
     "execution_count": 13,
     "metadata": {},
     "output_type": "execute_result"
    },
    {
     "data": {
      "image/png": "[encoded data removed]",
      "text/plain": [
       "<Figure size 432x288 with 1 Axes>"
      ]
     },
     "metadata": {
      "image/png": {
       "height": 251,
       "width": 378
      },
      "needs_background": "light"
     },
     "output_type": "display_data"
    }
   ],
   "source": [
    "# Let us plot our loss over time\n",
    "%matplotlib inline\n",
    "%config InlineBackend.figure_format = \"retina\"\n",
    "\n",
    "\n",
    "import matplotlib.pyplot as plt\n",
    "\n",
    "plt.plot(loss_array,label=\"Training_loss\")\n",
    "plt.legend(frameon=False)"
   ]
  },
  {
   "cell_type": "code",
   "execution_count": 14,
   "metadata": {},
   "outputs": [],
   "source": [
    "def view_classify( ps):\n",
    "    ''' Function for viewing an image and it's predicted classes.\n",
    "    '''\n",
    "    ps = ps.data.numpy().squeeze()\n",
    "\n",
    "    fig, (ax1, ax2) = plt.subplots(figsize=(6,9), ncols=2)\n",
    "    ax1.axis('off')\n",
    "    ax2.barh(np.arange(9), ps)\n",
    "    ax2.set_aspect(0.1)\n",
    "    ax2.set_yticks(np.arange(10))\n",
    "    ax2.set_yticklabels(['class1','class2','class3','class4','class5','class6','class7','class8','class9'])\n",
    "    ax2.set_title('Class Probability')\n",
    "    ax2.set_xlim(0, 1.1)\n",
    "\n",
    "    plt.tight_layout()\n"
   ]
  },
  {
   "cell_type": "code",
   "execution_count": 15,
   "metadata": {},
   "outputs": [
    {
     "name": "stdout",
     "output_type": "stream",
     "text": [
      "tensor([7])\n"
     ]
    },
    {
     "data": {
      "image/png": "[encoded data removed]",
      "text/plain": [
       "<Figure size 432x648 with 2 Axes>"
      ]
     },
     "metadata": {
      "image/png": {
       "height": 640,
       "width": 424
      },
      "needs_background": "light"
     },
     "output_type": "display_data"
    }
   ],
   "source": [
    "sample = next(iter(transformed_dataset))\n",
    "sample = next(iter(transformed_dataset))\n",
    "sample = transformed_dataset[46060]\n",
    "feature ,target = sample['features'],sample['target']\n",
    "output = net(feature)\n",
    "feature = F.log_softmax(output, dim=1)\n",
    "ps = torch.exp(feature)\n",
    "print(target+1)\n",
    "view_classify(ps)"
   ]
  },
  {
   "cell_type": "code",
   "execution_count": 17,
   "metadata": {},
   "outputs": [
    {
     "name": "stdout",
     "output_type": "stream",
     "text": [
      "odict_keys(['fc1.weight', 'fc1.bias', 'fc2.weight', 'fc2.bias', 'fc3.weight', 'fc3.bias', 'fc4.weight', 'fc4.bias', 'fc5.weight', 'fc5.bias'])\n"
     ]
    }
   ],
   "source": [
    "#Lets save the model\n",
    "print(net.state_dict().keys())\n",
    "\n",
    "#Let us save the state dict\n",
    "torch.save({\n",
    "    'model_state_dict' : net.state_dict()\n",
    "}, \"OttoGroup.pth\")\n",
    "\n"
   ]
  },
  {
   "cell_type": "code",
   "execution_count": null,
   "metadata": {},
   "outputs": [],
   "source": []
  }
 ],
 "metadata": {
  "kernelspec": {
   "display_name": "Python 3",
   "language": "python",
   "name": "python3"
  },
  "language_info": {
   "codemirror_mode": {
    "name": "ipython",
    "version": 3
   },
   "file_extension": ".py",
   "mimetype": "text/x-python",
   "name": "python",
   "nbconvert_exporter": "python",
   "pygments_lexer": "ipython3",
   "version": "3.6.7"
  }
 },
 "nbformat": 4,
 "nbformat_minor": 2
}
