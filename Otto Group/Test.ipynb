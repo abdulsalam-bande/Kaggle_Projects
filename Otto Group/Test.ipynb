{
 "cells": [
  {
   "cell_type": "code",
   "execution_count": 3,
   "metadata": {},
   "outputs": [],
   "source": [
    "\n",
    "import pandas as pd\n",
    "import numpy as np\n",
    "import torch\n",
    "from torch.utils.data import Dataset, DataLoader"
   ]
  },
  {
   "cell_type": "code",
   "execution_count": 3,
   "metadata": {},
   "outputs": [],
   "source": [
    "train = pd.read_csv(\"train.csv\")\n"
   ]
  },
  {
   "cell_type": "code",
   "execution_count": 45,
   "metadata": {},
   "outputs": [
    {
     "name": "stdout",
     "output_type": "stream",
     "text": [
      "id           20001\n",
      "feat_1           0\n",
      "feat_2           0\n",
      "feat_3           0\n",
      "feat_4           0\n",
      "            ...   \n",
      "feat_90          0\n",
      "feat_91          0\n",
      "feat_92          0\n",
      "feat_93          0\n",
      "target     Class_3\n",
      "Name: 20000, Length: 95, dtype: object\n",
      "Targettttttttttttttttt\n",
      "Class_3\n",
      "feat_1     0\n",
      "feat_2     0\n",
      "feat_3     0\n",
      "feat_4     0\n",
      "feat_5     0\n",
      "          ..\n",
      "feat_89    0\n",
      "feat_90    0\n",
      "feat_91    0\n",
      "feat_92    0\n",
      "feat_93    0\n",
      "Name: 20000, Length: 93, dtype: object\n",
      "(93,)\n"
     ]
    }
   ],
   "source": [
    "example = train.iloc[20000]\n",
    "\n",
    "print(example)\n",
    "target = example['target']\n",
    "print(\"Targettttttttttttttttt\")\n",
    "print(target)\n",
    "example = example.drop(labels='id', axis=0)\n",
    "example = example.drop(labels='target', axis=0)\n",
    "print(example)\n",
    "print(example.shape)\n",
    "\n"
   ]
  },
  {
   "cell_type": "code",
   "execution_count": 34,
   "metadata": {},
   "outputs": [
    {
     "name": "stdout",
     "output_type": "stream",
     "text": [
      "<class 'numpy.ndarray'>\n",
      "object\n",
      "float64\n",
      "<class 'torch.Tensor'>\n"
     ]
    }
   ],
   "source": [
    "example = np.array([example])\n",
    "print(type(example))\n",
    "print(example.dtype)\n",
    "example = example.astype('float64') \n",
    "print(example.dtype)\n",
    "example = torch.from_numpy(example)\n",
    "print(type(example))\n"
   ]
  },
  {
   "cell_type": "code",
   "execution_count": 35,
   "metadata": {},
   "outputs": [
    {
     "name": "stdout",
     "output_type": "stream",
     "text": [
      "torch.Size([1, 93])\n"
     ]
    }
   ],
   "source": [
    "print(example.size())"
   ]
  },
  {
   "cell_type": "code",
   "execution_count": 36,
   "metadata": {},
   "outputs": [
    {
     "name": "stdout",
     "output_type": "stream",
     "text": [
      "<built-in method isdigit of str object at 0x12823b0d8>\n",
      "<class 'str'>\n"
     ]
    }
   ],
   "source": []
  },
  {
   "cell_type": "code",
   "execution_count": 37,
   "metadata": {},
   "outputs": [],
   "source": [
    "def isdigit(target):\n",
    "    digit = 0\n",
    "    for i in(target):\n",
    "        if i.isdigit():\n",
    "            dig = i\n",
    "    return digit"
   ]
  },
  {
   "cell_type": "code",
   "execution_count": 44,
   "metadata": {},
   "outputs": [
    {
     "name": "stdout",
     "output_type": "stream",
     "text": [
      "3\n",
      "<class 'numpy.ndarray'>\n",
      "<class 'torch.Tensor'>\n",
      "torch.Size([1])\n"
     ]
    }
   ],
   "source": [
    "my_digit = isdigit(target)\n",
    "print(my_digit)\n",
    "my_digit = int(my_digit)\n",
    "my_digit = np.array([my_digit])\n",
    "print(type(my_digit))\n",
    "my_digit = torch.from_numpy(my_digit)\n",
    "print(type(my_digit))\n",
    "print(my_digit.shape)"
   ]
  },
  {
   "cell_type": "code",
   "execution_count": 5,
   "metadata": {},
   "outputs": [],
   "source": [
    "class Testing_Dataset(Dataset):\n",
    "    def __init__(self,csv_file,root_dir,transform):\n",
    "        self.data = pd.read_csv(csv_file)\n",
    "        self.root_dir = root_dir\n",
    "        self.transform = transform\n",
    "        \n",
    "        \n",
    "    def __len__(self):\n",
    "        return len(self.data)\n",
    "    \n",
    "    def __getitem__(self,idx):\n",
    "        features = self.data.iloc[idx]\n",
    "        features = features.drop(labels='id',axis=0)\n",
    "        \n",
    "        \n",
    "        sample = {\"features\":features}\n",
    "        \n",
    "        if self.transform:\n",
    "            sample = self.transform(sample)\n",
    "            \n",
    "        return sample"
   ]
  },
  {
   "cell_type": "code",
   "execution_count": 6,
   "metadata": {},
   "outputs": [],
   "source": [
    "class to_tensor(object):\n",
    "    def __call__(self,sample):\n",
    "        features = sample['features']\n",
    "        features = np.array([features])\n",
    "        features = features.astype('float32')\n",
    "        features = torch.from_numpy(features)\n",
    "        features = features.float()\n",
    "        \n",
    "        return {\"features\":features}\n",
    "        "
   ]
  },
  {
   "cell_type": "code",
   "execution_count": 7,
   "metadata": {},
   "outputs": [],
   "source": [
    "transformed_dataset_testing = Testing_Dataset(csv_file=\"test.csv\",\n",
    "                                       root_dir=\"/Users/abdulsalamyazid/Desktop/Projects/Kaggle\",\n",
    "                                       transform = to_tensor())\n"
   ]
  },
  {
   "cell_type": "code",
   "execution_count": 8,
   "metadata": {},
   "outputs": [
    {
     "name": "stdout",
     "output_type": "stream",
     "text": [
      "0 torch.float32\n",
      "1 torch.float32\n",
      "2 torch.float32\n",
      "3 torch.float32\n"
     ]
    }
   ],
   "source": [
    "for i in range(len(transformed_dataset_testing)):\n",
    "    sample = transformed_dataset_testing[i]\n",
    "\n",
    "    print(i, sample['features'].dtype)\n",
    "\n",
    "    if i == 3:\n",
    "        break"
   ]
  },
  {
   "cell_type": "code",
   "execution_count": null,
   "metadata": {},
   "outputs": [],
   "source": []
  },
  {
   "cell_type": "code",
   "execution_count": null,
   "metadata": {},
   "outputs": [],
   "source": []
  }
 ],
 "metadata": {
  "kernelspec": {
   "display_name": "Python 3",
   "language": "python",
   "name": "python3"
  },
  "language_info": {
   "codemirror_mode": {
    "name": "ipython",
    "version": 3
   },
   "file_extension": ".py",
   "mimetype": "text/x-python",
   "name": "python",
   "nbconvert_exporter": "python",
   "pygments_lexer": "ipython3",
   "version": "3.6.7"
  }
 },
 "nbformat": 4,
 "nbformat_minor": 2
}
