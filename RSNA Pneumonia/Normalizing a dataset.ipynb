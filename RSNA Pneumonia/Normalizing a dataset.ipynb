{
 "cells": [
  {
   "cell_type": "code",
   "execution_count": 2,
   "metadata": {
    "collapsed": true
   },
   "outputs": [],
   "source": [
    "import torch\n",
    "from torch.utils.data import Dataset, DataLoader"
   ]
  },
  {
   "cell_type": "code",
   "execution_count": 6,
   "metadata": {},
   "outputs": [
    {
     "name": "stdout",
     "output_type": "stream",
     "text": [
      "The data size is\n",
      "torch.Size([1, 1, 3, 4])\n",
      "nb_samples\n",
      "1.0\n",
      "Total mean\n",
      "tensor([ 77.4255], dtype=torch.float64)\n",
      "Total std\n",
      "tensor([ 144.2671], dtype=torch.float64)\n"
     ]
    }
   ],
   "source": [
    "\n",
    "class MyDataset(Dataset):\n",
    "    def __init__(self):\n",
    "        my_tensor = torch.tensor([[ 443.1423416,  0.5324416,  13.532416,  3.1416],\n",
    "        [53.765416,  12.42426, 43.16,  -4.5316],\n",
    "        [ 4.53416,  3.3416,  312.1216,  43.9416]], dtype=torch.float64)\n",
    "        my_tensor = my_tensor.unsqueeze(0)\n",
    "        my_tensor = my_tensor.unsqueeze(0)\n",
    "        \n",
    "        self.data =my_tensor\n",
    "        print(\"The data size is\")\n",
    "        print(self.data.size())\n",
    "        #print(\"The data size is\")\n",
    "        #print(self.data.size(2))\n",
    "        \n",
    "    def __getitem__(self, index):\n",
    "        x = self.data[index]\n",
    "        return x\n",
    "\n",
    "    def __len__(self):\n",
    "        return len(self.data)\n",
    "    \n",
    "\n",
    "dataset = MyDataset()\n",
    "loader = DataLoader(\n",
    "    dataset,\n",
    "    batch_size=1,\n",
    "    num_workers=1,\n",
    "    shuffle=False\n",
    ")\n",
    "\n",
    "\n",
    "mean = 0.\n",
    "std = 0.\n",
    "nb_samples = 0.\n",
    "for data in loader:\n",
    "    batch_samples = data.size(0)\n",
    "    #print(\"batch_samples\")\n",
    "    #print(batch_samples)\n",
    "    data = data.view(batch_samples, data.size(1), -1)\n",
    "    #print(\"data\")\n",
    "    mean += data.mean(2).sum(0)\n",
    "    #print(\"mean\")\n",
    "    #print(mean)\n",
    "    std += data.std(2).sum(0)\n",
    "    #print(\"std\")\n",
    "    #print(std)\n",
    "    nb_samples += batch_samples\n",
    "\n",
    "\n",
    "mean /= nb_samples\n",
    "print(\"nb_samples\")\n",
    "print(nb_samples)\n",
    "std /= nb_samples\n",
    "print(\"Total mean\")\n",
    "print(mean)\n",
    "print(\"Total std\")\n",
    "print(std)"
   ]
  },
  {
   "cell_type": "code",
   "execution_count": 51,
   "metadata": {},
   "outputs": [
    {
     "name": "stdout",
     "output_type": "stream",
     "text": [
      "mean: tensor(77.4255, dtype=torch.float64)\n",
      "std: tensor(138.1252, dtype=torch.float64)\n",
      "\n"
     ]
    }
   ],
   "source": [
    "\n",
    "\n",
    "mean = 0.\n",
    "meansq = 0.\n",
    "for data in loader:\n",
    "    mean = data.mean()\n",
    "    meansq = (data**2).mean()\n",
    "\n",
    "    std = torch.sqrt(meansq - mean**2)\n",
    "    print(\"mean: \" + str(mean))\n",
    "    print(\"std: \" + str(std))\n",
    "    print()"
   ]
  },
  {
   "cell_type": "code",
   "execution_count": 52,
   "metadata": {},
   "outputs": [
    {
     "name": "stdout",
     "output_type": "stream",
     "text": [
      "torch.Size([1, 1, 3, 4])\n",
      "tensor(77.4255, dtype=torch.float64)\n",
      "tensor(144.2671, dtype=torch.float64)\n"
     ]
    }
   ],
   "source": [
    "my_tensor = torch.tensor([[ 443.1423416,  0.5324416,  13.532416,  3.1416],\n",
    "        [53.765416,  12.42426, 43.16,  -4.5316],\n",
    "        [ 4.53416,  3.3416,  312.1216,  43.9416]], dtype=torch.float64)\n",
    "my_tensor = my_tensor.unsqueeze(0)\n",
    "my_tensor = my_tensor.unsqueeze(0)\n",
    "print(my_tensor.size())\n",
    "my_mean = torch.mean(my_tensor)\n",
    "my_std = torch.std(my_tensor)\n",
    "print(my_mean)\n",
    "print(my_std)\n",
    "\n"
   ]
  },
  {
   "cell_type": "code",
   "execution_count": null,
   "metadata": {
    "collapsed": true
   },
   "outputs": [],
   "source": [
    "#Calculating standard deviation and mean\n",
    "a = torch.tensor([2,3],dtype=torch.float32)\n",
    "b = torch.mean(a)\n",
    "c = torch.std(a)\n",
    "d = torch.var(a)\n",
    "print(b)\n",
    "print(c)\n",
    "print(d)\n",
    "x = torch.Tensor([[0, 1], [2, 3]])\n",
    "print(x[1])"
   ]
  },
  {
   "cell_type": "code",
   "execution_count": null,
   "metadata": {
    "collapsed": true
   },
   "outputs": [],
   "source": []
  }
 ],
 "metadata": {
  "kernelspec": {
   "display_name": "Python 3",
   "language": "python",
   "name": "python3"
  },
  "language_info": {
   "codemirror_mode": {
    "name": "ipython",
    "version": 3
   },
   "file_extension": ".py",
   "mimetype": "text/x-python",
   "name": "python",
   "nbconvert_exporter": "python",
   "pygments_lexer": "ipython3",
   "version": "3.6.3"
  }
 },
 "nbformat": 4,
 "nbformat_minor": 2
}
