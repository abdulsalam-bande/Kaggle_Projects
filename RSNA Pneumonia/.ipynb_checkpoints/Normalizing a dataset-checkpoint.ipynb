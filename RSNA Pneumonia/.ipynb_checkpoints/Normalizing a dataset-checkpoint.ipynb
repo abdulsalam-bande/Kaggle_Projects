{
 "cells": [
  {
   "cell_type": "code",
   "execution_count": 2,
   "metadata": {
    "collapsed": true
   },
   "outputs": [],
   "source": [
    "import torch\n",
    "from torch.utils.data import Dataset, DataLoader"
   ]
  },
  {
   "cell_type": "code",
   "execution_count": 22,
   "metadata": {},
   "outputs": [
    {
     "name": "stdout",
     "output_type": "stream",
     "text": [
      "tensor([[[[ 0.9507, -0.0835],\n",
      "          [ 0.8914, -0.7521]]],\n",
      "\n",
      "\n",
      "        [[[-0.4543,  0.0528],\n",
      "          [ 0.4759,  0.0351]]]])\n",
      "batch_samples\n",
      "1\n",
      "data\n",
      "tensor([[[ 0.9507, -0.0835,  0.8914, -0.7521]]])\n",
      "mean\n",
      "tensor([ 0.2516])\n",
      "std\n",
      "tensor([ 0.8201])\n",
      "batch_samples\n",
      "1\n",
      "data\n",
      "tensor([[[-0.4543,  0.0528,  0.4759,  0.0351]]])\n",
      "mean\n",
      "tensor([ 0.2790])\n",
      "std\n",
      "tensor([ 1.2004])\n",
      "nb_samples\n",
      "2.0\n",
      "Total mean\n",
      "tensor([ 0.1395])\n",
      "Total std\n",
      "tensor([ 0.6002])\n"
     ]
    }
   ],
   "source": [
    "\n",
    "class MyDataset(Dataset):\n",
    "    def __init__(self):\n",
    "        self.data = torch.randn(2, 1, 2, 2)\n",
    "        print(self.data)\n",
    "        \n",
    "    def __getitem__(self, index):\n",
    "        x = self.data[index]\n",
    "        return x\n",
    "\n",
    "    def __len__(self):\n",
    "        return len(self.data)\n",
    "    \n",
    "\n",
    "dataset = MyDataset()\n",
    "loader = DataLoader(\n",
    "    dataset,\n",
    "    batch_size=1,\n",
    "    num_workers=1,\n",
    "    shuffle=False\n",
    ")\n",
    "\n",
    "\n",
    "mean = 0.\n",
    "std = 0.\n",
    "nb_samples = 0.\n",
    "for data in loader:\n",
    "    batch_samples = data.size(0)\n",
    "    print(\"batch_samples\")\n",
    "    print(batch_samples)\n",
    "    data = data.view(batch_samples, data.size(1), -1)\n",
    "    print(\"data\")\n",
    "    print(data)\n",
    "    mean += data.mean(2).sum(0)\n",
    "    print(\"mean\")\n",
    "    print(mean)\n",
    "    std += data.std(2).sum(0)\n",
    "    print(\"std\")\n",
    "    print(std)\n",
    "    nb_samples += batch_samples\n",
    "\n",
    "\n",
    "mean /= nb_samples\n",
    "print(\"nb_samples\")\n",
    "print(nb_samples)\n",
    "std /= nb_samples\n",
    "print(\"Total mean\")\n",
    "print(mean)\n",
    "print(\"Total std\")\n",
    "print(std)"
   ]
  },
  {
   "cell_type": "code",
   "execution_count": null,
   "metadata": {
    "collapsed": true
   },
   "outputs": [],
   "source": [
    "#Calculating standard deviation and mean\n",
    "a = torch.tensor([2,3],dtype=torch.float32)\n",
    "b = torch.mean(a)\n",
    "c = torch.std(a)\n",
    "d = torch.var(a)\n",
    "print(b)\n",
    "print(c)\n",
    "print(d)\n",
    "x = torch.Tensor([[0, 1], [2, 3]])\n",
    "print(x[1])"
   ]
  },
  {
   "cell_type": "code",
   "execution_count": null,
   "metadata": {
    "collapsed": true
   },
   "outputs": [],
   "source": []
  }
 ],
 "metadata": {
  "kernelspec": {
   "display_name": "Python 3",
   "language": "python",
   "name": "python3"
  },
  "language_info": {
   "codemirror_mode": {
    "name": "ipython",
    "version": 3
   },
   "file_extension": ".py",
   "mimetype": "text/x-python",
   "name": "python",
   "nbconvert_exporter": "python",
   "pygments_lexer": "ipython3",
   "version": "3.6.3"
  }
 },
 "nbformat": 4,
 "nbformat_minor": 2
}
