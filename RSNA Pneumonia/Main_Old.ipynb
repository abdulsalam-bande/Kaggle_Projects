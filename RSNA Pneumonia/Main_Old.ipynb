{
 "cells": [
  {
   "cell_type": "code",
   "execution_count": 1,
   "metadata": {
    "collapsed": true
   },
   "outputs": [],
   "source": [
    "#Importing the Libraries\n",
    "import os   #used for listing directories in a Folder, or Items in a File\n",
    "import torch  # Pytorch Neural Network Package\n",
    "import pandas as pd    # To import csv Files\n",
    "import numpy as np      # To operate on Numpy Arrays\n",
    "import matplotlib.pyplot as plt\n",
    "from torch.utils.data import Dataset, DataLoader   # To create a custom DataSet in Pytorch\n",
    "from torchvision import transforms, utils     # To operate on Datasets such as Normilazation\n",
    "import pydicom    # To deal Operate on DICOM Images"
   ]
  },
  {
   "cell_type": "code",
   "execution_count": 30,
   "metadata": {
    "collapsed": true
   },
   "outputs": [],
   "source": [
    "#Let us a create a class for the Training Dataset\n",
    "\n",
    "class PnomniaData(Dataset):\n",
    "    \n",
    "    # Lets create a PnemoniaDataset Object Creator\n",
    "    def __init__(self , csv_file , root_dir , transform ):\n",
    "        # Let us give the property of the oject a csv File\n",
    "        self.data = pd.read_csv(csv_file)\n",
    "        #Let us set the Root Directory\n",
    "        self.root_dir = root_dir\n",
    "        self.transform = transform\n",
    "        \n",
    "        \n",
    "    # Let us Find the Size of the DataSet\n",
    "    def __len__(self):\n",
    "        return len(self.data)-1\n",
    "    \n",
    "    #Lets Create a method to Get an Item of the Dataset\n",
    "    def __getitem__(self, idx):  #Idx is the index of the wanted Item of The Dataset\n",
    "        # using the iloc  Property let us get an Item of the Csv\n",
    "        patientData = self.data.iloc[idx]\n",
    "        patiendId = patientData['patientId'] #let us get a patient id from the PatientId Colounm\n",
    "        #let us create a coloumn matrix(its size is 5), this matrix contains x,y,width,height,target, we do so by concatinating them\n",
    "        x = patientData['x']  #let us get the x coodinate  from the \"x\" Colounm\n",
    "        y = patientData['y']\n",
    "        width = patientData['width']\n",
    "        height = patientData['height']\n",
    "        target = patientData['Target']\n",
    "        XandY = np.concatenate((x,y) ,axis = None)\n",
    "        XandYandWidth = np.concatenate((XandY,width), axis = None)\n",
    "        XandYandWidthAndHight = np.concatenate((XandYandWidth,height), axis = None)\n",
    "        XandYandWidthAndHightTarget = np.concatenate((XandYandWidthAndHight,target), axis = None)\n",
    "        \n",
    "        #With the Patient Id concatinated with the root director, lets go the Photos folder to get a DICOM Image\n",
    "        dcm_file = str(self.root_dir)+ patiendId +\".dcm\"\n",
    "        dcm_data = pydicom.read_file(dcm_file)\n",
    "        #let us get the pixels of the DICOM Image\n",
    "        image = dcm_data.pixel_array\n",
    "        \n",
    "        #Let us create a dictionary. This dictionary has an Id, the x,y.. coodicates and the image pixels of the DICOM Image)\n",
    "        sample = {'patientId':patiendId, 'XandYandWidthAndHightTarget':XandYandWidthAndHightTarget, 'image':image}\n",
    "        \n",
    "        if self.transform:\n",
    "            sample = self.transform(sample)\n",
    "        \n",
    "        return sample\n",
    "    \n",
    "\n",
    "#A class to convert to Our Data to Pytorch Tensors\n",
    "class ToTensor(object):\n",
    "    \n",
    "    def __call__(self, sample):\n",
    "        patientId ,XandYandWidthAndHightTarget, image = sample['patientId'],sample['XandYandWidthAndHightTarget'], sample['image']\n",
    "        XandYandWidthAndHightTarget = np.array([XandYandWidthAndHightTarget])\n",
    "        XandYandWidthAndHightTarget=XandYandWidthAndHightTarget.reshape(-1,1)\n",
    "        XandYandWidthAndHightTarget = torch.from_numpy(XandYandWidthAndHightTarget)\n",
    "        image = image[..., np.newaxis]\n",
    "        XandYandWidthAndHightTarget = XandYandWidthAndHightTarget.type(torch.FloatTensor)\n",
    "        image = image.transpose((2, 0, 1))\n",
    "        image = torch.from_numpy(image)\n",
    "        image = image.type(torch.FloatTensor)\n",
    "        \n",
    "        return  {'patientId':patientId, 'XandYandWidthAndHightTarget':XandYandWidthAndHightTarget , 'image':image}\n",
    "    \n",
    "    \n",
    "class MeanSubtraction(object):\n",
    "    def __init__(self,mean):\n",
    "        self.mean = mean\n",
    "        \n",
    "    def __call__(self,sample):\n",
    "        patientId ,XandYandWidthAndHightTarget, image = sample['patientId'],sample['XandYandWidthAndHightTarget'], sample['image']\n",
    "        for i in range(image.shape[0]):\n",
    "            image[:,:,i] -=  0.5\n",
    "            \n",
    "            return  {'patientId':patientId, 'XandYandWidthAndHightTarget':XandYandWidthAndHightTarget , 'image':image}\n",
    "            \n",
    "\n",
    "    \n",
    "    \n",
    " \n",
    "\n",
    "    \n",
    "    "
   ]
  },
  {
   "cell_type": "code",
   "execution_count": 31,
   "metadata": {
    "collapsed": true
   },
   "outputs": [],
   "source": [
    " #Let us a create a class for the Testing Dataset\n",
    "class PnomniaDataTesting(Dataset):\n",
    "    \n",
    "    def __init__(self , root_dir , transform ):\n",
    "        self.root_dir = root_dir\n",
    "        self.transform = transform\n",
    "        \n",
    "        \n",
    "    def __len__(self):\n",
    "        self.listOfFiles = os.listdir(self.root_dir)\n",
    "        return len(self.listOfFiles)\n",
    "    \n",
    "    def __getitem__(self, idx):\n",
    "        patientIdWithExtention = self.listOfFiles[idx]\n",
    "        patientId = patientIdWithExtention[:-4]\n",
    "        dcm_file = str(self.root_dir) + patientIdWithExtention\n",
    "        dcm_data = pydicom.read_file(dcm_file)\n",
    "        image = dcm_data.pixel_array\n",
    "        \n",
    "        sample = {'patientId':patiendId, 'image':image}\n",
    "        \n",
    "        if self.transform:\n",
    "            sample = self.transform(sample)\n",
    "        \n",
    "        return sample\n",
    "class ToTensorTesting(object):\n",
    "    \n",
    "    def __call__(self, sample):\n",
    "        patientId , image = sample['patientId'], sample['image']\n",
    "        image = image[..., np.newaxis]\n",
    "        image = image.transpose((2, 0, 1))\n",
    "        image = torch.from_numpy(image)\n",
    "        \n",
    "        return  {'patientId':patientId, 'image':image}\n",
    "    "
   ]
  },
  {
   "cell_type": "code",
   "execution_count": 32,
   "metadata": {},
   "outputs": [
    {
     "name": "stdout",
     "output_type": "stream",
     "text": [
      "30226\n",
      "0 torch.Size([1, 1024, 1024])\n"
     ]
    }
   ],
   "source": [
    "all_transforms = transforms.Compose([ToTensor()])\n",
    "\n",
    "\n",
    "trainingDataset = PnomniaData(csv_file='/Users/abdulsalamyazid/Desktop/Projects/RSNA Pneumonia/Dataset/train_label.csv',\n",
    "                             root_dir = '/Users/abdulsalamyazid/Desktop/Projects/RSNA Pneumonia/Dataset/train_images/',\n",
    "                             transform = all_transforms)\n",
    "\n",
    "#testingDataset = PnomniaDataTesting(root_dir = '/Users/abdulsalamyazid/Desktop/Projects/Dataset/test_images/',\n",
    "                             #transform = ToTensorTesting())\n",
    "\n",
    "\n",
    "\n",
    "\n",
    "print(trainingDataset.__len__())\n",
    "for i in range (len(trainingDataset)):\n",
    "    sample = trainingDataset[i]\n",
    "    print(i,sample['image'].size())\n",
    "    \n",
    "    if i == 0:\n",
    "        break\n",
    "        "
   ]
  },
  {
   "cell_type": "code",
   "execution_count": 33,
   "metadata": {},
   "outputs": [
    {
     "name": "stdout",
     "output_type": "stream",
     "text": [
      "<class 'numpy.ndarray'>\n",
      "<class 'torch.Tensor'>\n"
     ]
    }
   ],
   "source": [
    "#How to convert a numpy array to Pytorch Torch\n",
    "x = np.array([2,3,1,0])\n",
    "print(type(x))\n",
    "x = torch.from_numpy(x)\n",
    "print(type(x))"
   ]
  },
  {
   "cell_type": "code",
   "execution_count": 34,
   "metadata": {
    "collapsed": true
   },
   "outputs": [],
   "source": [
    "trainloader = DataLoader(trainingDataset , batch_size = 4,\n",
    "                        shuffle = True ,num_workers = 4)\n",
    "#testloader = DataLoader(testingDataset , batch_size = 4,\n",
    "                       # shuffle = True ,num_workers = 4)\n"
   ]
  },
  {
   "cell_type": "code",
   "execution_count": 36,
   "metadata": {},
   "outputs": [
    {
     "name": "stdout",
     "output_type": "stream",
     "text": [
      "samples number\n",
      "30226.0\n",
      "mean is\n",
      "tensor([ 124.5482])\n",
      "std is\n",
      "tensor([ 58.0486])\n"
     ]
    }
   ],
   "source": [
    "mean_sum = 0.\n",
    "std = 0.\n",
    "nb_samples = 0.\n",
    "for data in trainloader:\n",
    "    batch_samples = data['image'].size(0)\n",
    "    #print(\"batch_samples\")\n",
    "    #print(batch_samples )\n",
    "    data['image'] = data['image'].view(batch_samples, data['image'].size(1), -1)\n",
    "    #print(\"data size\")\n",
    "    #print(data['image'].size())\n",
    "    #data['image']\n",
    "    mean += data['image'].mean(2).sum(0)\n",
    "    std += data['image'].std(2).sum(0)\n",
    "    nb_samples += batch_samples\n",
    "\n",
    "mean /= 30226.0\n",
    "std /= 30226.0\n",
    "\n",
    "print(\"samples number\")\n",
    "print(nb_samples)\n",
    "print(\"mean is\")\n",
    "print(mean)\n",
    "print(\"std is\")\n",
    "print(std)\n"
   ]
  },
  {
   "cell_type": "code",
   "execution_count": 29,
   "metadata": {},
   "outputs": [
    {
     "name": "stdout",
     "output_type": "stream",
     "text": [
      "30226.0\n"
     ]
    }
   ],
   "source": [
    "print(nb_samples)"
   ]
  },
  {
   "cell_type": "code",
   "execution_count": 6,
   "metadata": {
    "collapsed": true
   },
   "outputs": [],
   "source": [
    "import torch\n",
    "import torch.nn as nn\n",
    "import torch.nn.functional as F\n",
    "\n",
    "class Neti(nn.Module):\n",
    "    def __init__(self):\n",
    "        super(Neti, self).__init__()\n",
    "        self.conv1 = nn.Conv2d(1,20,10)\n",
    "        self.conv2 = nn.Conv2d(20,40,10)\n",
    "        self.conv3 = nn.Conv2d(40,64,10)\n",
    "        self.fc1 = nn.Linear(1600, 120)\n",
    "        self.fc2 = nn.Linear(120,100)\n",
    "        self.fc3 = nn.Linear(100,5)\n",
    "        \n",
    "    def forward(self,x):\n",
    "        x = F.max_pool2d(F.relu(self.conv1(x)),(5,5))\n",
    "        x = F.max_pool2d(F.relu(self.conv2(x)),5)\n",
    "        x = F.max_pool2d(F.relu(self.conv3(x)),5)\n",
    "        x = x.view(-1,self.num_flat_features(x))\n",
    "        x = F.relu(self.fc1(x))\n",
    "        x = F.relu(self.fc2(x))\n",
    "        x = self.fc3(x)\n",
    "        \n",
    "        return x\n",
    "    \n",
    "    def num_flat_features(self,x):\n",
    "        size = x.size()[1:]\n",
    "        num_fetures = 1\n",
    "        for s in size:\n",
    "            num_fetures *=s\n",
    "        return num_fetures\n",
    "    \n",
    "    "
   ]
  },
  {
   "cell_type": "code",
   "execution_count": 12,
   "metadata": {},
   "outputs": [
    {
     "name": "stdout",
     "output_type": "stream",
     "text": [
      "conv1.weight \t\t torch.Size([20, 1, 10, 10])\n",
      "conv1.bias \t\t torch.Size([20])\n",
      "conv2.weight \t\t torch.Size([40, 20, 10, 10])\n",
      "conv2.bias \t\t torch.Size([40])\n",
      "conv3.weight \t\t torch.Size([64, 40, 10, 10])\n",
      "conv3.bias \t\t torch.Size([64])\n",
      "fc1.weight \t\t torch.Size([120, 1600])\n",
      "fc1.bias \t\t torch.Size([120])\n",
      "fc2.weight \t\t torch.Size([100, 120])\n",
      "fc2.bias \t\t torch.Size([100])\n",
      "fc3.weight \t\t torch.Size([5, 100])\n",
      "fc3.bias \t\t torch.Size([5])\n"
     ]
    }
   ],
   "source": [
    "my_net = Neti()\n",
    "for name, paremeter in my_net.named_parameters():\n",
    "    print(name,\"\\t\\t\", paremeter.shape)"
   ]
  },
  {
   "cell_type": "code",
   "execution_count": 45,
   "metadata": {},
   "outputs": [
    {
     "name": "stdout",
     "output_type": "stream",
     "text": [
      "torch.Size([1, 1024, 1024])\n"
     ]
    },
    {
     "ename": "RuntimeError",
     "evalue": "expected stride to be a single integer value or a list of 3 values to match the convolution dimensions, but got stride=[1, 1]",
     "output_type": "error",
     "traceback": [
      "\u001b[0;31m---------------------------------------------------------------------------\u001b[0m",
      "\u001b[0;31mRuntimeError\u001b[0m                              Traceback (most recent call last)",
      "\u001b[0;32m<ipython-input-45-2407572a49b7>\u001b[0m in \u001b[0;36m<module>\u001b[0;34m()\u001b[0m\n\u001b[1;32m     10\u001b[0m \u001b[0;31m#net = Net()\u001b[0m\u001b[0;34m\u001b[0m\u001b[0;34m\u001b[0m\u001b[0m\n\u001b[1;32m     11\u001b[0m \u001b[0;31m#lets try an input\u001b[0m\u001b[0;34m\u001b[0m\u001b[0;34m\u001b[0m\u001b[0m\n\u001b[0;32m---> 12\u001b[0;31m \u001b[0moutput\u001b[0m \u001b[0;34m=\u001b[0m \u001b[0mnet\u001b[0m\u001b[0;34m(\u001b[0m\u001b[0mmytensor\u001b[0m\u001b[0;34m)\u001b[0m\u001b[0;34m\u001b[0m\u001b[0m\n\u001b[0m\u001b[1;32m     13\u001b[0m \u001b[0mprint\u001b[0m\u001b[0;34m(\u001b[0m\u001b[0moutput\u001b[0m\u001b[0;34m)\u001b[0m\u001b[0;34m\u001b[0m\u001b[0m\n",
      "\u001b[0;32m/Users/abdulsalamyazid/anaconda/lib/python3.6/site-packages/torch/nn/modules/module.py\u001b[0m in \u001b[0;36m__call__\u001b[0;34m(self, *input, **kwargs)\u001b[0m\n\u001b[1;32m    489\u001b[0m             \u001b[0mresult\u001b[0m \u001b[0;34m=\u001b[0m \u001b[0mself\u001b[0m\u001b[0;34m.\u001b[0m\u001b[0m_slow_forward\u001b[0m\u001b[0;34m(\u001b[0m\u001b[0;34m*\u001b[0m\u001b[0minput\u001b[0m\u001b[0;34m,\u001b[0m \u001b[0;34m**\u001b[0m\u001b[0mkwargs\u001b[0m\u001b[0;34m)\u001b[0m\u001b[0;34m\u001b[0m\u001b[0m\n\u001b[1;32m    490\u001b[0m         \u001b[0;32melse\u001b[0m\u001b[0;34m:\u001b[0m\u001b[0;34m\u001b[0m\u001b[0m\n\u001b[0;32m--> 491\u001b[0;31m             \u001b[0mresult\u001b[0m \u001b[0;34m=\u001b[0m \u001b[0mself\u001b[0m\u001b[0;34m.\u001b[0m\u001b[0mforward\u001b[0m\u001b[0;34m(\u001b[0m\u001b[0;34m*\u001b[0m\u001b[0minput\u001b[0m\u001b[0;34m,\u001b[0m \u001b[0;34m**\u001b[0m\u001b[0mkwargs\u001b[0m\u001b[0;34m)\u001b[0m\u001b[0;34m\u001b[0m\u001b[0m\n\u001b[0m\u001b[1;32m    492\u001b[0m         \u001b[0;32mfor\u001b[0m \u001b[0mhook\u001b[0m \u001b[0;32min\u001b[0m \u001b[0mself\u001b[0m\u001b[0;34m.\u001b[0m\u001b[0m_forward_hooks\u001b[0m\u001b[0;34m.\u001b[0m\u001b[0mvalues\u001b[0m\u001b[0;34m(\u001b[0m\u001b[0;34m)\u001b[0m\u001b[0;34m:\u001b[0m\u001b[0;34m\u001b[0m\u001b[0m\n\u001b[1;32m    493\u001b[0m             \u001b[0mhook_result\u001b[0m \u001b[0;34m=\u001b[0m \u001b[0mhook\u001b[0m\u001b[0;34m(\u001b[0m\u001b[0mself\u001b[0m\u001b[0;34m,\u001b[0m \u001b[0minput\u001b[0m\u001b[0;34m,\u001b[0m \u001b[0mresult\u001b[0m\u001b[0;34m)\u001b[0m\u001b[0;34m\u001b[0m\u001b[0m\n",
      "\u001b[0;32m<ipython-input-12-e02af4b60403>\u001b[0m in \u001b[0;36mforward\u001b[0;34m(self, x)\u001b[0m\n\u001b[1;32m     14\u001b[0m \u001b[0;34m\u001b[0m\u001b[0m\n\u001b[1;32m     15\u001b[0m     \u001b[0;32mdef\u001b[0m \u001b[0mforward\u001b[0m\u001b[0;34m(\u001b[0m\u001b[0mself\u001b[0m\u001b[0;34m,\u001b[0m\u001b[0mx\u001b[0m\u001b[0;34m)\u001b[0m\u001b[0;34m:\u001b[0m\u001b[0;34m\u001b[0m\u001b[0m\n\u001b[0;32m---> 16\u001b[0;31m         \u001b[0mx\u001b[0m \u001b[0;34m=\u001b[0m \u001b[0mF\u001b[0m\u001b[0;34m.\u001b[0m\u001b[0mmax_pool2d\u001b[0m\u001b[0;34m(\u001b[0m\u001b[0mF\u001b[0m\u001b[0;34m.\u001b[0m\u001b[0mrelu\u001b[0m\u001b[0;34m(\u001b[0m\u001b[0mself\u001b[0m\u001b[0;34m.\u001b[0m\u001b[0mconv1\u001b[0m\u001b[0;34m(\u001b[0m\u001b[0mx\u001b[0m\u001b[0;34m)\u001b[0m\u001b[0;34m)\u001b[0m\u001b[0;34m,\u001b[0m\u001b[0;34m(\u001b[0m\u001b[0;36m5\u001b[0m\u001b[0;34m,\u001b[0m\u001b[0;36m5\u001b[0m\u001b[0;34m)\u001b[0m\u001b[0;34m)\u001b[0m\u001b[0;34m\u001b[0m\u001b[0m\n\u001b[0m\u001b[1;32m     17\u001b[0m         \u001b[0mx\u001b[0m \u001b[0;34m=\u001b[0m \u001b[0mF\u001b[0m\u001b[0;34m.\u001b[0m\u001b[0mmax_pool2d\u001b[0m\u001b[0;34m(\u001b[0m\u001b[0mF\u001b[0m\u001b[0;34m.\u001b[0m\u001b[0mrelu\u001b[0m\u001b[0;34m(\u001b[0m\u001b[0mself\u001b[0m\u001b[0;34m.\u001b[0m\u001b[0mconv2\u001b[0m\u001b[0;34m(\u001b[0m\u001b[0mx\u001b[0m\u001b[0;34m)\u001b[0m\u001b[0;34m)\u001b[0m\u001b[0;34m,\u001b[0m\u001b[0;36m5\u001b[0m\u001b[0;34m)\u001b[0m\u001b[0;34m\u001b[0m\u001b[0m\n\u001b[1;32m     18\u001b[0m         \u001b[0mx\u001b[0m \u001b[0;34m=\u001b[0m \u001b[0mF\u001b[0m\u001b[0;34m.\u001b[0m\u001b[0mmax_pool2d\u001b[0m\u001b[0;34m(\u001b[0m\u001b[0mF\u001b[0m\u001b[0;34m.\u001b[0m\u001b[0mrelu\u001b[0m\u001b[0;34m(\u001b[0m\u001b[0mself\u001b[0m\u001b[0;34m.\u001b[0m\u001b[0mconv3\u001b[0m\u001b[0;34m(\u001b[0m\u001b[0mx\u001b[0m\u001b[0;34m)\u001b[0m\u001b[0;34m)\u001b[0m\u001b[0;34m,\u001b[0m\u001b[0;36m5\u001b[0m\u001b[0;34m)\u001b[0m\u001b[0;34m\u001b[0m\u001b[0m\n",
      "\u001b[0;32m/Users/abdulsalamyazid/anaconda/lib/python3.6/site-packages/torch/nn/modules/module.py\u001b[0m in \u001b[0;36m__call__\u001b[0;34m(self, *input, **kwargs)\u001b[0m\n\u001b[1;32m    489\u001b[0m             \u001b[0mresult\u001b[0m \u001b[0;34m=\u001b[0m \u001b[0mself\u001b[0m\u001b[0;34m.\u001b[0m\u001b[0m_slow_forward\u001b[0m\u001b[0;34m(\u001b[0m\u001b[0;34m*\u001b[0m\u001b[0minput\u001b[0m\u001b[0;34m,\u001b[0m \u001b[0;34m**\u001b[0m\u001b[0mkwargs\u001b[0m\u001b[0;34m)\u001b[0m\u001b[0;34m\u001b[0m\u001b[0m\n\u001b[1;32m    490\u001b[0m         \u001b[0;32melse\u001b[0m\u001b[0;34m:\u001b[0m\u001b[0;34m\u001b[0m\u001b[0m\n\u001b[0;32m--> 491\u001b[0;31m             \u001b[0mresult\u001b[0m \u001b[0;34m=\u001b[0m \u001b[0mself\u001b[0m\u001b[0;34m.\u001b[0m\u001b[0mforward\u001b[0m\u001b[0;34m(\u001b[0m\u001b[0;34m*\u001b[0m\u001b[0minput\u001b[0m\u001b[0;34m,\u001b[0m \u001b[0;34m**\u001b[0m\u001b[0mkwargs\u001b[0m\u001b[0;34m)\u001b[0m\u001b[0;34m\u001b[0m\u001b[0m\n\u001b[0m\u001b[1;32m    492\u001b[0m         \u001b[0;32mfor\u001b[0m \u001b[0mhook\u001b[0m \u001b[0;32min\u001b[0m \u001b[0mself\u001b[0m\u001b[0;34m.\u001b[0m\u001b[0m_forward_hooks\u001b[0m\u001b[0;34m.\u001b[0m\u001b[0mvalues\u001b[0m\u001b[0;34m(\u001b[0m\u001b[0;34m)\u001b[0m\u001b[0;34m:\u001b[0m\u001b[0;34m\u001b[0m\u001b[0m\n\u001b[1;32m    493\u001b[0m             \u001b[0mhook_result\u001b[0m \u001b[0;34m=\u001b[0m \u001b[0mhook\u001b[0m\u001b[0;34m(\u001b[0m\u001b[0mself\u001b[0m\u001b[0;34m,\u001b[0m \u001b[0minput\u001b[0m\u001b[0;34m,\u001b[0m \u001b[0mresult\u001b[0m\u001b[0;34m)\u001b[0m\u001b[0;34m\u001b[0m\u001b[0m\n",
      "\u001b[0;32m/Users/abdulsalamyazid/anaconda/lib/python3.6/site-packages/torch/nn/modules/conv.py\u001b[0m in \u001b[0;36mforward\u001b[0;34m(self, input)\u001b[0m\n\u001b[1;32m    299\u001b[0m     \u001b[0;32mdef\u001b[0m \u001b[0mforward\u001b[0m\u001b[0;34m(\u001b[0m\u001b[0mself\u001b[0m\u001b[0;34m,\u001b[0m \u001b[0minput\u001b[0m\u001b[0;34m)\u001b[0m\u001b[0;34m:\u001b[0m\u001b[0;34m\u001b[0m\u001b[0m\n\u001b[1;32m    300\u001b[0m         return F.conv2d(input, self.weight, self.bias, self.stride,\n\u001b[0;32m--> 301\u001b[0;31m                         self.padding, self.dilation, self.groups)\n\u001b[0m\u001b[1;32m    302\u001b[0m \u001b[0;34m\u001b[0m\u001b[0m\n\u001b[1;32m    303\u001b[0m \u001b[0;34m\u001b[0m\u001b[0m\n",
      "\u001b[0;31mRuntimeError\u001b[0m: expected stride to be a single integer value or a list of 3 values to match the convolution dimensions, but got stride=[1, 1]"
     ]
    }
   ],
   "source": [
    "print(sample['image'].size())\n",
    "#sample['image'] = sample['image'].unsqueeze_(0)\n",
    "#print(sample['image'].size())\n",
    "\n",
    "#mytensor = sample['image'].type(torch.FloatTensor)\n",
    "#mytensor = mytensor.unsqueeze_(0)\n",
    "#print(mytensor.type())\n",
    "#print(mytensor.size())\n",
    "\n",
    "#net = Net()\n",
    "#lets try an input \n",
    "output = net(mytensor)\n",
    "print(output)\n"
   ]
  },
  {
   "cell_type": "code",
   "execution_count": null,
   "metadata": {
    "collapsed": true
   },
   "outputs": [],
   "source": []
  },
  {
   "cell_type": "code",
   "execution_count": 46,
   "metadata": {
    "collapsed": true
   },
   "outputs": [],
   "source": [
    "#Lets create our optimizer\n",
    "import torch\n",
    "import torch.nn as nn\n",
    "import torch.optim as optim\n",
    "net = Net()\n",
    "criterion = nn.CrossEntropyLoss()\n",
    "optimizer = optim.SGD(net.parameters(), lr = 0.001 , momentum = 0.9 )"
   ]
  },
  {
   "cell_type": "code",
   "execution_count": 47,
   "metadata": {},
   "outputs": [
    {
     "ename": "IndexError",
     "evalue": "Traceback (most recent call last):\n  File \"/Users/abdulsalamyazid/anaconda/lib/python3.6/site-packages/torch/utils/data/dataloader.py\", line 57, in _worker_loop\n    samples = collate_fn([dataset[i] for i in batch_indices])\n  File \"/Users/abdulsalamyazid/anaconda/lib/python3.6/site-packages/torch/utils/data/dataloader.py\", line 57, in <listcomp>\n    samples = collate_fn([dataset[i] for i in batch_indices])\n  File \"<ipython-input-6-1fec68f98833>\", line 21, in __getitem__\n    patientData = self.data.iloc[idx]\n  File \"/Users/abdulsalamyazid/anaconda/lib/python3.6/site-packages/pandas/core/indexing.py\", line 1328, in __getitem__\n    return self._getitem_axis(key, axis=0)\n  File \"/Users/abdulsalamyazid/anaconda/lib/python3.6/site-packages/pandas/core/indexing.py\", line 1749, in _getitem_axis\n    self._is_valid_integer(key, axis)\n  File \"/Users/abdulsalamyazid/anaconda/lib/python3.6/site-packages/pandas/core/indexing.py\", line 1638, in _is_valid_integer\n    raise IndexError(\"single positional indexer is out-of-bounds\")\nIndexError: single positional indexer is out-of-bounds\n",
     "output_type": "error",
     "traceback": [
      "\u001b[0;31m---------------------------------------------------------------------------\u001b[0m",
      "\u001b[0;31mIndexError\u001b[0m                                Traceback (most recent call last)",
      "\u001b[0;32m<ipython-input-47-feb6f0c2302d>\u001b[0m in \u001b[0;36m<module>\u001b[0;34m()\u001b[0m\n\u001b[1;32m      2\u001b[0m \u001b[0;34m\u001b[0m\u001b[0m\n\u001b[1;32m      3\u001b[0m     \u001b[0mrunning_loss\u001b[0m \u001b[0;34m=\u001b[0m \u001b[0;36m0.0\u001b[0m\u001b[0;34m\u001b[0m\u001b[0m\n\u001b[0;32m----> 4\u001b[0;31m     \u001b[0;32mfor\u001b[0m \u001b[0mi\u001b[0m\u001b[0;34m,\u001b[0m\u001b[0mj\u001b[0m\u001b[0;34m,\u001b[0m \u001b[0mdata\u001b[0m \u001b[0;32min\u001b[0m \u001b[0menumerate\u001b[0m\u001b[0;34m(\u001b[0m\u001b[0mtrainloader\u001b[0m\u001b[0;34m)\u001b[0m\u001b[0;34m:\u001b[0m\u001b[0;34m\u001b[0m\u001b[0m\n\u001b[0m\u001b[1;32m      5\u001b[0m \u001b[0;34m\u001b[0m\u001b[0m\n\u001b[1;32m      6\u001b[0m         \u001b[0;31m# get the inputs\u001b[0m\u001b[0;34m\u001b[0m\u001b[0;34m\u001b[0m\u001b[0m\n",
      "\u001b[0;32m/Users/abdulsalamyazid/anaconda/lib/python3.6/site-packages/torch/utils/data/dataloader.py\u001b[0m in \u001b[0;36m__next__\u001b[0;34m(self)\u001b[0m\n\u001b[1;32m    284\u001b[0m                 \u001b[0mself\u001b[0m\u001b[0;34m.\u001b[0m\u001b[0mreorder_dict\u001b[0m\u001b[0;34m[\u001b[0m\u001b[0midx\u001b[0m\u001b[0;34m]\u001b[0m \u001b[0;34m=\u001b[0m \u001b[0mbatch\u001b[0m\u001b[0;34m\u001b[0m\u001b[0m\n\u001b[1;32m    285\u001b[0m                 \u001b[0;32mcontinue\u001b[0m\u001b[0;34m\u001b[0m\u001b[0m\n\u001b[0;32m--> 286\u001b[0;31m             \u001b[0;32mreturn\u001b[0m \u001b[0mself\u001b[0m\u001b[0;34m.\u001b[0m\u001b[0m_process_next_batch\u001b[0m\u001b[0;34m(\u001b[0m\u001b[0mbatch\u001b[0m\u001b[0;34m)\u001b[0m\u001b[0;34m\u001b[0m\u001b[0m\n\u001b[0m\u001b[1;32m    287\u001b[0m \u001b[0;34m\u001b[0m\u001b[0m\n\u001b[1;32m    288\u001b[0m     \u001b[0mnext\u001b[0m \u001b[0;34m=\u001b[0m \u001b[0m__next__\u001b[0m  \u001b[0;31m# Python 2 compatibility\u001b[0m\u001b[0;34m\u001b[0m\u001b[0m\n",
      "\u001b[0;32m/Users/abdulsalamyazid/anaconda/lib/python3.6/site-packages/torch/utils/data/dataloader.py\u001b[0m in \u001b[0;36m_process_next_batch\u001b[0;34m(self, batch)\u001b[0m\n\u001b[1;32m    305\u001b[0m         \u001b[0mself\u001b[0m\u001b[0;34m.\u001b[0m\u001b[0m_put_indices\u001b[0m\u001b[0;34m(\u001b[0m\u001b[0;34m)\u001b[0m\u001b[0;34m\u001b[0m\u001b[0m\n\u001b[1;32m    306\u001b[0m         \u001b[0;32mif\u001b[0m \u001b[0misinstance\u001b[0m\u001b[0;34m(\u001b[0m\u001b[0mbatch\u001b[0m\u001b[0;34m,\u001b[0m \u001b[0mExceptionWrapper\u001b[0m\u001b[0;34m)\u001b[0m\u001b[0;34m:\u001b[0m\u001b[0;34m\u001b[0m\u001b[0m\n\u001b[0;32m--> 307\u001b[0;31m             \u001b[0;32mraise\u001b[0m \u001b[0mbatch\u001b[0m\u001b[0;34m.\u001b[0m\u001b[0mexc_type\u001b[0m\u001b[0;34m(\u001b[0m\u001b[0mbatch\u001b[0m\u001b[0;34m.\u001b[0m\u001b[0mexc_msg\u001b[0m\u001b[0;34m)\u001b[0m\u001b[0;34m\u001b[0m\u001b[0m\n\u001b[0m\u001b[1;32m    308\u001b[0m         \u001b[0;32mreturn\u001b[0m \u001b[0mbatch\u001b[0m\u001b[0;34m\u001b[0m\u001b[0m\n\u001b[1;32m    309\u001b[0m \u001b[0;34m\u001b[0m\u001b[0m\n",
      "\u001b[0;31mIndexError\u001b[0m: Traceback (most recent call last):\n  File \"/Users/abdulsalamyazid/anaconda/lib/python3.6/site-packages/torch/utils/data/dataloader.py\", line 57, in _worker_loop\n    samples = collate_fn([dataset[i] for i in batch_indices])\n  File \"/Users/abdulsalamyazid/anaconda/lib/python3.6/site-packages/torch/utils/data/dataloader.py\", line 57, in <listcomp>\n    samples = collate_fn([dataset[i] for i in batch_indices])\n  File \"<ipython-input-6-1fec68f98833>\", line 21, in __getitem__\n    patientData = self.data.iloc[idx]\n  File \"/Users/abdulsalamyazid/anaconda/lib/python3.6/site-packages/pandas/core/indexing.py\", line 1328, in __getitem__\n    return self._getitem_axis(key, axis=0)\n  File \"/Users/abdulsalamyazid/anaconda/lib/python3.6/site-packages/pandas/core/indexing.py\", line 1749, in _getitem_axis\n    self._is_valid_integer(key, axis)\n  File \"/Users/abdulsalamyazid/anaconda/lib/python3.6/site-packages/pandas/core/indexing.py\", line 1638, in _is_valid_integer\n    raise IndexError(\"single positional indexer is out-of-bounds\")\nIndexError: single positional indexer is out-of-bounds\n"
     ]
    }
   ],
   "source": [
    "for epoch in range(2):  # loop over the dataset multiple times\n",
    "\n",
    "    running_loss = 0.0\n",
    "    for i, data in enumerate(trainloader):\n",
    "   \n",
    "        # get the inputs\n",
    "        inputs, labels = data\n",
    "\n",
    "        # zero the parameter gradients\n",
    "        optimizer.zero_grad()\n",
    "\n",
    "        # forward + backward + optimize\n",
    "        outputs = net(inputs)\n",
    "        loss = criterion(outputs, labels)\n",
    "        loss.backward()\n",
    "        optimizer.step()\n",
    "\n",
    "        # print statistics\n",
    "        running_loss += loss.item()\n",
    "        if i % 2000 == 1999:    # print every 2000 mini-batches\n",
    "            print('[%d, %5d] loss: %.3f' %\n",
    "                  (epoch + 1, i + 1, running_loss / 2000))\n",
    "            running_loss = 0.0\n",
    "\n",
    "print('Finished Training')"
   ]
  },
  {
   "cell_type": "code",
   "execution_count": null,
   "metadata": {
    "collapsed": true
   },
   "outputs": [],
   "source": []
  }
 ],
 "metadata": {
  "kernelspec": {
   "display_name": "Python 3",
   "language": "python",
   "name": "python3"
  },
  "language_info": {
   "codemirror_mode": {
    "name": "ipython",
    "version": 3
   },
   "file_extension": ".py",
   "mimetype": "text/x-python",
   "name": "python",
   "nbconvert_exporter": "python",
   "pygments_lexer": "ipython3",
   "version": "3.6.3"
  }
 },
 "nbformat": 4,
 "nbformat_minor": 2
}
